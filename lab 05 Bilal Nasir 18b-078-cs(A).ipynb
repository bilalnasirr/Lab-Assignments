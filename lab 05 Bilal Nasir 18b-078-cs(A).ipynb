{
 "cells": [
  {
   "cell_type": "markdown",
   "metadata": {},
   "source": [
    "#Programming Exercise"
   ]
  },
  {
   "cell_type": "code",
   "execution_count": 21,
   "metadata": {},
   "outputs": [],
   "source": [
    "#Q1:\n",
    "def cylinder_area(radius,height):\n",
    "    import math\n",
    "    area=(2*(math.pi)*radius*height) + (2*(math.pi)*(radius**2))\n",
    "    decimals=2\n",
    "    print(\"The area of the cylinder is {0:.{1}f}cm\\u00b2\".format(area,decimals))"
   ]
  },
  {
   "cell_type": "code",
   "execution_count": 22,
   "metadata": {},
   "outputs": [
    {
     "name": "stdout",
     "output_type": "stream",
     "text": [
      "The area of the cylinder is 75.40cm²\n"
     ]
    }
   ],
   "source": [
    ">>> cylinder_area(2,4)"
   ]
  },
  {
   "cell_type": "code",
   "execution_count": 23,
   "metadata": {},
   "outputs": [],
   "source": [
    "def cylinder_volume(radius,height):\n",
    "    import math\n",
    "    volume=math.pi*(radius**2)*height\n",
    "    decimals=2\n",
    "    print(\"The volume of the cylinder is {0:.{1}f}cm\\u00b3\".format(volume,decimals))"
   ]
  },
  {
   "cell_type": "code",
   "execution_count": 24,
   "metadata": {},
   "outputs": [
    {
     "name": "stdout",
     "output_type": "stream",
     "text": [
      "The volume of the cylinder is 150.80cm³\n"
     ]
    }
   ],
   "source": [
    ">>> cylinder_volume(4,3)"
   ]
  },
  {
   "cell_type": "code",
   "execution_count": 17,
   "metadata": {},
   "outputs": [],
   "source": [
    "#Q2:\n",
    "def rectangle_area(length,width):\n",
    "    area=length*width\n",
    "    decimals=2\n",
    "    print(\"The area of rectangle is {0:.{1}f}cm\\u00b2\".format(area,decimals))"
   ]
  },
  {
   "cell_type": "code",
   "execution_count": 25,
   "metadata": {},
   "outputs": [
    {
     "name": "stdout",
     "output_type": "stream",
     "text": [
      "The area of rectangle is 20.00cm²\n"
     ]
    }
   ],
   "source": [
    ">>> rectangle_area(4,5)"
   ]
  },
  {
   "cell_type": "code",
   "execution_count": 11,
   "metadata": {},
   "outputs": [],
   "source": [
    "def arith_sequence(first_term,difference):\n",
    "                nth=int(input(\"Please enter the next 'Nth' term: \"))\n",
    "                a_nth=(first_term+((nth)-1)*difference)\n",
    "                ask=input(\"Do you want to continue? yes or no? \")\n",
    "                if ask==\"yes\":\n",
    "                    print(\"The\",nth,\"th term is\",a_nth)\n",
    "                    ask_2=input(\"Do you want to continue? yes or no? \")\n",
    "                    if ask_2==\"yes\":\n",
    "                        nth_2=int(input(\"Enter the Nth term: \"))\n",
    "                        a2_nth=(first_term+((nth_2)-1)*difference)\n",
    "                        print(\"The\",nth_2,\"th term is\",a2_nth)"
   ]
  },
  {
   "cell_type": "code",
   "execution_count": 12,
   "metadata": {},
   "outputs": [
    {
     "name": "stdout",
     "output_type": "stream",
     "text": [
      "Please enter the next 'Nth' term: 36\n",
      "Do you want to continue? yes or no? yes\n",
      "The 36 th term is 213\n",
      "Do you want to continue? yes or no? yes\n",
      "Enter the Nth term: 37\n",
      "The 37 th term is 219\n"
     ]
    }
   ],
   "source": [
    ">>> arith_sequence(3,6)"
   ]
  },
  {
   "cell_type": "code",
   "execution_count": 41,
   "metadata": {},
   "outputs": [],
   "source": [
    "#Q4:\n",
    "def palindrome(word):\n",
    "    word2=word.casefold()\n",
    "    if word2==word2[::-1]:\n",
    "        print(\"Your string\",word,\"is a palindrome\")\n",
    "    else:\n",
    "        print(\"Sorry your string\",word,\"is not a palindrome\")"
   ]
  },
  {
   "cell_type": "code",
   "execution_count": 42,
   "metadata": {},
   "outputs": [
    {
     "name": "stdout",
     "output_type": "stream",
     "text": [
      "Your string ciVic is a palindrome\n"
     ]
    }
   ],
   "source": [
    ">>> palindrome(\"ciVic\")"
   ]
  },
  {
   "cell_type": "code",
   "execution_count": 43,
   "metadata": {},
   "outputs": [
    {
     "name": "stdout",
     "output_type": "stream",
     "text": [
      "Sorry your string BilAl is not a palindrome\n"
     ]
    }
   ],
   "source": [
    ">>> palindrome(\"BilAl\")"
   ]
  },
  {
   "cell_type": "code",
   "execution_count": null,
   "metadata": {},
   "outputs": [],
   "source": []
  },
  {
   "cell_type": "code",
   "execution_count": 59,
   "metadata": {},
   "outputs": [],
   "source": [
    "#Q5:\n",
    "def info(name,father_name,roll_no,course):\n",
    "    print(\"\\t\\t\\tMarks Statement Sheet\\n\\t\\t\\t\\tYear 2018\")\n",
    "    print(\"Name:\",name.capitalize(),father_name.capitalize(),\"\\nRoll Number:\",roll_no,\"\\nCourse: \",course.title())"
   ]
  },
  {
   "cell_type": "code",
   "execution_count": 60,
   "metadata": {},
   "outputs": [
    {
     "name": "stdout",
     "output_type": "stream",
     "text": [
      "\t\t\tMarks Statement Sheet\n",
      "\t\t\t\tYear 2018\n",
      "Name: Bilal Nasir \n",
      "Roll Number: 18b-078-cs \n",
      "Course:  Computer Science\n"
     ]
    }
   ],
   "source": [
    ">>> info(\"bilal\",\"nasir\",\"18b-078-cs\",\"computer science\")"
   ]
  },
  {
   "cell_type": "code",
   "execution_count": 102,
   "metadata": {},
   "outputs": [],
   "source": [
    "def subject_marks(ict,isl,pf,be,eng,calculus):\n",
    "    print(\"Marks obtained in ICT are :\",ict)\n",
    "    print(\"Marks obtained in Islamiat are :\",isl)\n",
    "    print(\"Marks obtained in Programming Fundatmentals are :\",pf)\n",
    "    print(\"Marks obtained in Basic Electronics are: \",be)\n",
    "    print(\"Marks obtained in English are :\",eng)\n",
    "    print(\"Marks obtained in Calculus are :\",calculus)\n",
    "    print(\"Total marks obtained are:\",ict+isl+pf+be+eng+calculus)"
   ]
  },
  {
   "cell_type": "code",
   "execution_count": 103,
   "metadata": {},
   "outputs": [
    {
     "name": "stdout",
     "output_type": "stream",
     "text": [
      "Marks obtained in ICT are : 74\n",
      "Marks obtained in Islamiat are : 68\n",
      "Marks obtained in Programming Fundatmentals are : 82\n",
      "Marks obtained in Basic Electronics are:  78\n",
      "Marks obtained in English are : 71\n",
      "Marks obtained in Calculus are : 92\n",
      "Total marks obtained are: 465\n"
     ]
    }
   ],
   "source": [
    ">>> subject_marks(74,68,82,78,71,92)"
   ]
  },
  {
   "cell_type": "code",
   "execution_count": 108,
   "metadata": {},
   "outputs": [],
   "source": [
    "def percentage(ict,isl,pf,be,eng,calculus):\n",
    "    percentage6=(ict+isl+pf+be+eng+calculus)/6\n",
    "    print(\"The overall percentage of subjects is: {0:.2f}\".format(percentage6),\"%\")"
   ]
  },
  {
   "cell_type": "code",
   "execution_count": 109,
   "metadata": {},
   "outputs": [
    {
     "name": "stdout",
     "output_type": "stream",
     "text": [
      "The overall percentage of subjects is: 77.50 %\n"
     ]
    }
   ],
   "source": [
    ">>> percentage(74,68,82,78,71,92)"
   ]
  },
  {
   "cell_type": "code",
   "execution_count": 110,
   "metadata": {},
   "outputs": [
    {
     "name": "stdout",
     "output_type": "stream",
     "text": [
      "\t\t\tMarks Statement Sheet\n",
      "\t\t\t\tYear 2018\n",
      "Name: Bilal Nasir \n",
      "Roll Number: 18b-078-cs \n",
      "Course:  Computer Science\n",
      "Marks obtained in ICT are : 74\n",
      "Marks obtained in Islamiat are : 68\n",
      "Marks obtained in Programming Fundatmentals are : 82\n",
      "Marks obtained in Basic Electronics are:  78\n",
      "Marks obtained in English are : 71\n",
      "Marks obtained in Calculus are : 92\n",
      "Total marks obtained are: 465\n",
      "The overall percentage of subjects is: 77.50 %\n"
     ]
    }
   ],
   "source": [
    ">>> info(\"bilal\",\"nasir\",\"18b-078-cs\",\"computer science\")\n",
    ">>> subject_marks(74,68,82,78,71,92)\n",
    ">>> percentage(74,68,82,78,71,92)"
   ]
  },
  {
   "cell_type": "code",
   "execution_count": 114,
   "metadata": {},
   "outputs": [],
   "source": [
    "def equation_1(initial_velocity,acceleration,time):\n",
    "    velocity=initial_velocity+(acceleration*time)\n",
    "    print(\"The velocity is\",velocity,\"m/s\")\n",
    "    "
   ]
  },
  {
   "cell_type": "code",
   "execution_count": 115,
   "metadata": {},
   "outputs": [
    {
     "name": "stdout",
     "output_type": "stream",
     "text": [
      "The velocity is 18 m/s\n"
     ]
    }
   ],
   "source": [
    ">>> equation_1(8,5,2)"
   ]
  },
  {
   "cell_type": "code",
   "execution_count": 118,
   "metadata": {},
   "outputs": [],
   "source": [
    "def equation_2(initial_velocity,acceleration,displacement):\n",
    "    velsq=(initial_velocity**2)+(2*acceleration*displacement)\n",
    "    print(\"The square of velocity is equal to\",velsq,\"(m/s)square\")"
   ]
  },
  {
   "cell_type": "code",
   "execution_count": 119,
   "metadata": {},
   "outputs": [
    {
     "name": "stdout",
     "output_type": "stream",
     "text": [
      "The square of velocity is equal to 84 (m/s)square\n"
     ]
    }
   ],
   "source": [
    ">>> equation_2(8,5,2)"
   ]
  },
  {
   "cell_type": "code",
   "execution_count": 122,
   "metadata": {},
   "outputs": [],
   "source": [
    "def equation_3(initial_velocity,acceleration,time):\n",
    "    dis=(initial_velocity*time)+(0.5*acceleration*(time**2))\n",
    "    print(\"The displacement is\",dis,\"meters\")"
   ]
  },
  {
   "cell_type": "code",
   "execution_count": 123,
   "metadata": {},
   "outputs": [
    {
     "name": "stdout",
     "output_type": "stream",
     "text": [
      "The displacement is 26.0 meters\n"
     ]
    }
   ],
   "source": [
    ">>> equation_3(8,5,2)"
   ]
  },
  {
   "cell_type": "code",
   "execution_count": 206,
   "metadata": {},
   "outputs": [],
   "source": [
    "#Q7:\n",
    "def projectile_motion(initial_velocity,sin_angle):\n",
    "    import math\n",
    "    g=9.8\n",
    "    t=(2*initial_velocity*math.sin(sin_angle))/g\n",
    "    print(\"The time of flight is {0:.2f}\".format(t),\"seconds\")\n",
    "    h=(initial_velocity**2)*(math.sin(sin_angle)**2)/2*g\n",
    "    print(\"The maximum height reached is {0:.2f}\".format(h),\"meters\")\n",
    "    r=(initial_velocity**2)*(math.sin(sin_angle)*2)/g\n",
    "    print(\"The horizontal range is {0:.2f}\".format(r),\"meters\")"
   ]
  },
  {
   "cell_type": "code",
   "execution_count": 207,
   "metadata": {},
   "outputs": [
    {
     "name": "stdout",
     "output_type": "stream",
     "text": [
      "The time of flight is 0.93 seconds\n",
      "The maximum height reached is 101.29 meters\n",
      "The horizontal range is 4.64 meters\n"
     ]
    }
   ],
   "source": [
    ">>> projectile_motion(5,2)"
   ]
  },
  {
   "cell_type": "code",
   "execution_count": 126,
   "metadata": {},
   "outputs": [],
   "source": [
    "#Q8\n",
    "def name_reversed(name):\n",
    "    name=name.casefold()\n",
    "    print(name[::-1])"
   ]
  },
  {
   "cell_type": "code",
   "execution_count": 127,
   "metadata": {},
   "outputs": [
    {
     "name": "stdout",
     "output_type": "stream",
     "text": [
      "lalib\n"
     ]
    }
   ],
   "source": [
    ">>> name_reversed(\"Bilal\")"
   ]
  },
  {
   "cell_type": "code",
   "execution_count": 226,
   "metadata": {},
   "outputs": [],
   "source": [
    "#Q9:\n",
    "def encrypt_message(message):\n",
    "    message=message.casefold()\n",
    "    mess=message[::-1] #it will reverse \n",
    "    newmessage=mess.replace(\" \", \"\") #remove spaces\n",
    "    print(newmessage)"
   ]
  },
  {
   "cell_type": "code",
   "execution_count": 227,
   "metadata": {},
   "outputs": [
    {
     "name": "stdout",
     "output_type": "stream",
     "text": [
      "esaelpodrkdnestnemngissa\n"
     ]
    }
   ],
   "source": [
    ">>> encrypt_message(\"Assignment send krdo please\")"
   ]
  },
  {
   "cell_type": "code",
   "execution_count": 178,
   "metadata": {},
   "outputs": [],
   "source": [
    "#Q10:\n",
    "def table_sin(range1,range2):\n",
    "    import math\n",
    "    for i in range(range1,range2+1):\n",
    "        print(math.sin(i))"
   ]
  },
  {
   "cell_type": "code",
   "execution_count": 180,
   "metadata": {},
   "outputs": [
    {
     "name": "stdout",
     "output_type": "stream",
     "text": [
      "0.9092974268256817\n",
      "0.1411200080598672\n",
      "-0.7568024953079282\n",
      "-0.9589242746631385\n",
      "-0.27941549819892586\n"
     ]
    }
   ],
   "source": [
    ">>> table_sin(2,6)"
   ]
  },
  {
   "cell_type": "code",
   "execution_count": 181,
   "metadata": {},
   "outputs": [],
   "source": [
    "def table_cos(range1,range2):\n",
    "    import math\n",
    "    for i in range(range1,range2+1):\n",
    "        print(math.cos(i))"
   ]
  },
  {
   "cell_type": "code",
   "execution_count": 182,
   "metadata": {},
   "outputs": [
    {
     "name": "stdout",
     "output_type": "stream",
     "text": [
      "-0.4161468365471424\n",
      "-0.9899924966004454\n",
      "-0.6536436208636119\n",
      "0.28366218546322625\n",
      "0.960170286650366\n"
     ]
    }
   ],
   "source": [
    ">>> table_cos(2,6)"
   ]
  },
  {
   "cell_type": "code",
   "execution_count": 187,
   "metadata": {},
   "outputs": [],
   "source": [
    "def table_tan(range1,range2):\n",
    "    import math\n",
    "    for i in range(range1,range2+1):\n",
    "        print(math.tan(i))"
   ]
  },
  {
   "cell_type": "code",
   "execution_count": 188,
   "metadata": {},
   "outputs": [
    {
     "name": "stdout",
     "output_type": "stream",
     "text": [
      "-2.185039863261519\n",
      "-0.1425465430742778\n",
      "1.1578212823495777\n",
      "-3.380515006246586\n",
      "-0.29100619138474915\n"
     ]
    }
   ],
   "source": [
    ">>> table_tan(2,6)"
   ]
  },
  {
   "cell_type": "code",
   "execution_count": null,
   "metadata": {},
   "outputs": [],
   "source": []
  }
 ],
 "metadata": {
  "kernelspec": {
   "display_name": "Python 3",
   "language": "python",
   "name": "python3"
  },
  "language_info": {
   "codemirror_mode": {
    "name": "ipython",
    "version": 3
   },
   "file_extension": ".py",
   "mimetype": "text/x-python",
   "name": "python",
   "nbconvert_exporter": "python",
   "pygments_lexer": "ipython3",
   "version": "3.7.0"
  }
 },
 "nbformat": 4,
 "nbformat_minor": 2
}
