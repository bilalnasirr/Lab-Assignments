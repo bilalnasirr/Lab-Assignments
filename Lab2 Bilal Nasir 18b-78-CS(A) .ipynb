{
 "cells": [
  {
   "cell_type": "markdown",
   "metadata": {},
   "source": [
    "# Program 1: Write a program to copy a list"
   ]
  },
  {
   "cell_type": "code",
   "execution_count": 1,
   "metadata": {},
   "outputs": [
    {
     "name": "stdout",
     "output_type": "stream",
     "text": [
      "[10, 22, 44, 23, 4]\n",
      "[10, 22, 44, 23, 4]\n"
     ]
    }
   ],
   "source": [
    "original_list1 = [10, 22, 44, 23, 4]\n",
    "new_list = list(original_list1)\n",
    "print(original_list1)\n",
    "print(new_list)"
   ]
  },
  {
   "cell_type": "markdown",
   "metadata": {},
   "source": [
    "# Program 2: Write a program to create an empty tuple.\n"
   ]
  },
  {
   "cell_type": "code",
   "execution_count": 2,
   "metadata": {},
   "outputs": [
    {
     "name": "stdout",
     "output_type": "stream",
     "text": [
      "()\n",
      "()\n"
     ]
    }
   ],
   "source": [
    "#Create an empty tuple\n",
    "x = ()\n",
    "print(x)\n",
    "#Create an empty tuple with tuple() function built-in Python\n",
    "tuple1 = tuple()\n",
    "print(tuple1)"
   ]
  },
  {
   "cell_type": "markdown",
   "metadata": {},
   "source": [
    "# Program 3:Write a Python program to create a tuple with different data types."
   ]
  },
  {
   "cell_type": "code",
   "execution_count": 36,
   "metadata": {},
   "outputs": [
    {
     "name": "stdout",
     "output_type": "stream",
     "text": [
      "('tuple', False, 3.2, 1)\n"
     ]
    }
   ],
   "source": [
    "#Create a tuple with different data types\n",
    "tuple2 = (\"tuple\", False, 3.2, 1)\n",
    "print(tuple2)\n"
   ]
  },
  {
   "cell_type": "markdown",
   "metadata": {},
   "source": [
    "# Program 4:Write a Python program to get the 4th element and 4th element from last of a tuple.\n"
   ]
  },
  {
   "cell_type": "code",
   "execution_count": 39,
   "metadata": {},
   "outputs": [
    {
     "name": "stdout",
     "output_type": "stream",
     "text": [
      "('U', 'I', 'T', 2, 0, 1, 8, 'b', 'a', 't', 'c', 'h')\n",
      "2\n",
      "a\n"
     ]
    }
   ],
   "source": [
    "#Get an item of the tuple\n",
    "tuplex = (\"U\", \"I\", \"T\", 2, 0, 1, 8, \"b\", \"a\", \"t\", \"c\" , \"h\")\n",
    "print(tuplex)\n",
    "#Get item (4th element)of the tuple by index\n",
    "item = tuplex[3]\n",
    "print(item)\n",
    "#Get item (4th element from last)by index negative\n",
    "item1 = tuplex[-4]\n",
    "print(item1)"
   ]
  },
  {
   "cell_type": "markdown",
   "metadata": {},
   "source": [
    "# Program 5: Using the following interactive session as an aid, explain in your own words what the list methods extend(), copy(), and clear() do.\n"
   ]
  },
  {
   "cell_type": "code",
   "execution_count": 91,
   "metadata": {},
   "outputs": [
    {
     "name": "stdout",
     "output_type": "stream",
     "text": [
      "[2, 3, 4, 5, 6]\n",
      "[2, 3, 4, 5, 6]\n",
      "[]\n",
      "[2, 3, 4, 5, 6]\n"
     ]
    }
   ],
   "source": [
    "lst = [2, 3, 4]\n",
    "lst.extend([5, 6])\n",
    "print(lst)\n",
    "lst2 = lst.copy()\n",
    "print(lst2)\n",
    "lst.clear()\n",
    "print(lst)\n",
    "print(lst2)"
   ]
  },
  {
   "cell_type": "markdown",
   "metadata": {},
   "source": [
    "# Programming Exercise"
   ]
  },
  {
   "cell_type": "markdown",
   "metadata": {},
   "source": [
    "# 1. Write a program for calculating number of days between two dates. Hint you can import the date from datetime and in the result you can use variable_name.days to get result. "
   ]
  },
  {
   "cell_type": "code",
   "execution_count": 60,
   "metadata": {},
   "outputs": [
    {
     "name": "stdout",
     "output_type": "stream",
     "text": [
      "7\n"
     ]
    }
   ],
   "source": [
    "from datetime import date\n",
    "date1 = date(2018, 10, 13)\n",
    "date2 = date(2018, 10, 20)\n",
    "x = (date2 - date1)\n",
    "print(x.days)"
   ]
  },
  {
   "cell_type": "markdown",
   "metadata": {},
   "source": [
    "# 2. A ladder put up right against a wall will fall over unless put up at a certain angle less than 90 degrees. Given variables length and angle storing the length of the ladder and the angle that it forms with the ground as it leans against the wall, write a Python expression involving length and angle that computes the height reached by the ladder. Evaluate the expression for these values of length and angle:"
   ]
  },
  {
   "cell_type": "code",
   "execution_count": 67,
   "metadata": {},
   "outputs": [
    {
     "name": "stdout",
     "output_type": "stream",
     "text": [
      "Input the length of the ladder: 16\n",
      "Input the angle storing the length of the ladder: 75\n",
      "15.454813220625093\n"
     ]
    }
   ],
   "source": [
    "#(a)16 feet and 75 degrees\n",
    "from math import pi\n",
    "from math import sin\n",
    "length = int(input(\"Input the length of the ladder: \"))\n",
    "angle = int(input(\"Input the angle storing the length of the ladder: \"))\n",
    "radians = (pi/180)*angle\n",
    "height = ((length)*((sin(radians))))\n",
    "print(height)"
   ]
  },
  {
   "cell_type": "code",
   "execution_count": 68,
   "metadata": {},
   "outputs": [
    {
     "name": "stdout",
     "output_type": "stream",
     "text": [
      "Input the length of the ladder: 20\n",
      "Input the angle storing the length of the ladder: 0\n",
      "0.0\n"
     ]
    }
   ],
   "source": [
    "#(b)20 feet and 0 degrees\n",
    "from math import pi\n",
    "from math import sin\n",
    "length = int(input(\"Input the length of the ladder: \"))\n",
    "angle = int(input(\"Input the angle storing the length of the ladder: \"))\n",
    "radians = (pi/180)*angle\n",
    "height = ((length)*((sin(radians))))\n",
    "print(height)"
   ]
  },
  {
   "cell_type": "code",
   "execution_count": 69,
   "metadata": {},
   "outputs": [
    {
     "name": "stdout",
     "output_type": "stream",
     "text": [
      "Input the length of the ladder: 24\n",
      "Input the angle storing the length of the ladder: 45\n",
      "16.970562748477143\n"
     ]
    }
   ],
   "source": [
    "#(c)24 feet and 45 degrees\n",
    "from math import pi\n",
    "from math import sin\n",
    "length = int(input(\"Input the length of the ladder: \"))\n",
    "angle = int(input(\"Input the angle storing the length of the ladder: \"))\n",
    "radians = (pi/180)*angle\n",
    "height = ((length)*((sin(radians))))\n",
    "print(heigh)"
   ]
  },
  {
   "cell_type": "code",
   "execution_count": 78,
   "metadata": {},
   "outputs": [
    {
     "name": "stdout",
     "output_type": "stream",
     "text": [
      "Input the length of the ladder: 24\n",
      "Input the angle storing the length of the ladder: 80\n",
      "23.63538607229299\n"
     ]
    }
   ],
   "source": [
    "#(d)24 feet and 80 degrees\n",
    "from math import pi\n",
    "from math import sin\n",
    "length = int(input(\"Input the length of the ladder: \"))\n",
    "angle = int(input(\"Input the angle storing the length of the ladder: \"))\n",
    "radians = (pi/180)*angle\n",
    "height = ((length)*((sin(radians))))\n",
    "print(height)"
   ]
  },
  {
   "cell_type": "markdown",
   "metadata": {},
   "source": [
    "# 3. Write the relevant Python expression or statement, involving a list of numbers lst and using list operators and methods for these specifications:"
   ]
  },
  {
   "cell_type": "code",
   "execution_count": 119,
   "metadata": {},
   "outputs": [
    {
     "data": {
      "text/plain": [
       "3"
      ]
     },
     "execution_count": 119,
     "metadata": {},
     "output_type": "execute_result"
    }
   ],
   "source": [
    "#(a)An expression that evaluates to the index of the middle element of lst\n",
    "numbers = ['1', '2', '3', '4', '5', '6', '7']\n",
    "numbers.index('4')"
   ]
  },
  {
   "cell_type": "code",
   "execution_count": 120,
   "metadata": {},
   "outputs": [
    {
     "data": {
      "text/plain": [
       "'4'"
      ]
     },
     "execution_count": 120,
     "metadata": {},
     "output_type": "execute_result"
    }
   ],
   "source": [
    "#(b)An expression that evaluates to the middle element of lst\n",
    "numbers[3]"
   ]
  },
  {
   "cell_type": "code",
   "execution_count": 121,
   "metadata": {},
   "outputs": [
    {
     "name": "stdout",
     "output_type": "stream",
     "text": [
      "['7', '6', '5', '4', '3', '2', '1']\n"
     ]
    }
   ],
   "source": [
    "#(c)A statement that sorts the list lst in descending order\n",
    "numbers.reverse()\n",
    "print(numbers)"
   ]
  },
  {
   "cell_type": "code",
   "execution_count": 122,
   "metadata": {},
   "outputs": [
    {
     "name": "stdout",
     "output_type": "stream",
     "text": [
      "['2', '3', '4', '5', '6', '7', '1']\n"
     ]
    }
   ],
   "source": [
    "#(d)A statement that removes the first number of list lst and puts it at the end\n",
    "numbers.reverse()\n",
    "numbers.remove('1')\n",
    "numbers.append('1')\n",
    "print(numbers)"
   ]
  },
  {
   "cell_type": "markdown",
   "metadata": {},
   "source": [
    "# 4. Start by assigning to variables monthsL and monthsT a list and a tuple, respectively, both containing strings 'Jan', 'Feb', 'Mar', and 'May', in that order. \n"
   ]
  },
  {
   "cell_type": "code",
   "execution_count": 41,
   "metadata": {},
   "outputs": [
    {
     "name": "stdout",
     "output_type": "stream",
     "text": [
      "['Jan', 'Feb', 'March', 'May', 'April']\n",
      "['Jan', 'Feb', 'March', 'May', 'April', 'June']\n",
      "['Jan', 'Feb', 'March', 'May', 'April']\n",
      "['Jan', 'March', 'May', 'April']\n",
      "['April', 'May', 'March', 'Jan']\n",
      "['April', 'Jan', 'March', 'May']\n"
     ]
    }
   ],
   "source": [
    "monthsL = ['Jan','Feb','March','May']\n",
    "monthsT = ('Jan','Feb','March','May')\n",
    "monthsL.insert(4,'April')\n",
    "print(monthsL)\n",
    "monthsL.append('June')\n",
    "print(monthsL)\n",
    "monthsL.pop()\n",
    "print(monthsL)\n",
    "monthsL.remove('Feb')\n",
    "print(monthsL)\n",
    "monthsL.reverse()\n",
    "print(monthsL)\n",
    "monthsL.sort()\n",
    "print(monthsL)"
   ]
  },
  {
   "cell_type": "code",
   "execution_count": 44,
   "metadata": {},
   "outputs": [
    {
     "name": "stdout",
     "output_type": "stream",
     "text": [
      "('Jan', 'Feb', 'March', 'May')\n",
      "['Jan', 'Feb', 'March', 'May']\n",
      "['Jan', 'Feb', 'March', 'May', 'April']\n",
      "['Jan', 'Feb', 'March', 'May', 'April', 'June']\n",
      "['Jan', 'Feb', 'March', 'May', 'April']\n",
      "['Jan', 'March', 'May', 'April']\n",
      "['April', 'May', 'March', 'Jan']\n",
      "['April', 'Jan', 'March', 'May']\n"
     ]
    }
   ],
   "source": [
    "#For MonthsT\n",
    "print(monthsT)\n",
    "tmonths = list(monthsT)\n",
    "print(tmonths)\n",
    "tmonths.insert(4,'April')\n",
    "print(tmonths)\n",
    "tmonths.append('June')\n",
    "print(tmonths)\n",
    "tmonths.pop()\n",
    "print(tmonths)\n",
    "tmonths.remove('Feb')\n",
    "print(tmonths)\n",
    "tmonths.reverse()\n",
    "print(tmonths)\n",
    "tmonths.sort()\n",
    "print(tmonths)"
   ]
  },
  {
   "cell_type": "markdown",
   "metadata": {},
   "source": [
    "# 5. Write Python expressions corresponding to these statements:"
   ]
  },
  {
   "cell_type": "code",
   "execution_count": 50,
   "metadata": {},
   "outputs": [
    {
     "name": "stdout",
     "output_type": "stream",
     "text": [
      "1\n"
     ]
    }
   ],
   "source": [
    "#(a)The number of characters in the word \"anachronistically\" is 1 more than the number of characters in the word \"counterintuitive.\"\n",
    "wordone = \"anachronistically\"\n",
    "wordtwo = \"counterintuitive\"\n",
    "diff = len(wordone) - len(wordtwo)\n",
    "print(diff)"
   ]
  },
  {
   "cell_type": "code",
   "execution_count": 1,
   "metadata": {},
   "outputs": [
    {
     "name": "stdout",
     "output_type": "stream",
     "text": [
      "False\n"
     ]
    }
   ],
   "source": [
    "#(b)The word \"misinterpretation\" appears earlier in the dictionary than the word \"misrepresentation.\"\n",
    "word1 = \"misinterpretation\"\n",
    "word2 = \"misrepresentation\"\n",
    "dic = word1 > word2\n",
    "print(dic)"
   ]
  },
  {
   "cell_type": "code",
   "execution_count": 82,
   "metadata": {},
   "outputs": [
    {
     "data": {
      "text/plain": [
       "False"
      ]
     },
     "execution_count": 82,
     "metadata": {},
     "output_type": "execute_result"
    }
   ],
   "source": [
    "# (c)The letter \"e\" does not appear in the word \"floccinaucinihilipilification.\"\n",
    "\n",
    "wordf = \"floccinaucinihilipilification\"\n",
    "'e' in wordf"
   ]
  },
  {
   "cell_type": "code",
   "execution_count": 66,
   "metadata": {},
   "outputs": [
    {
     "data": {
      "text/plain": [
       "True"
      ]
     },
     "execution_count": 66,
     "metadata": {},
     "output_type": "execute_result"
    }
   ],
   "source": [
    "#(d)The number of characters in the word \"counterrevolution\" is equal to the sum of the number of characters in words \"counter\" and \"resolution.\"\n",
    "fword = \"counterrevolution\"\n",
    "sword = \"counter\"\n",
    "tword = \"resolution\"\n",
    "len(fword) == len(sword) + len(tword)"
   ]
  },
  {
   "cell_type": "markdown",
   "metadata": {},
   "source": [
    "# 6. Write the corresponding Python assignment statements:"
   ]
  },
  {
   "cell_type": "code",
   "execution_count": 81,
   "metadata": {},
   "outputs": [
    {
     "name": "stdout",
     "output_type": "stream",
     "text": [
      "6.5\n",
      "['paper', 'staples', 'pencils']\n",
      "John Fitzgerald Kennedy\n"
     ]
    }
   ],
   "source": [
    "#(a)Assign 6 to variable a and 7 to variable b.\n",
    "a = int(6)\n",
    "b = int(7)\n",
    "#(b)Assign to variable c the average of variables a and b.\n",
    "c = ((a+b)/2)\n",
    "print(c)\n",
    "#(c)Assign to variable inventory the list containing strings 'paper', 'staples', and 'pencils'.\n",
    "inventory = ['paper', 'staples', 'pencils']\n",
    "print(inventory)\n",
    "#(d)Assign to variables first, middle and last the strings 'John', 'Fitzgerald', and 'Kennedy'.\n",
    "first = str('John')\n",
    "middle = str('Fitzgerald')\n",
    "last = str('Kennedy')\n",
    "#(e)Assign to variable fullname the concatenation of string variables first, middle, and last. \n",
    "fullname = first+ ' ' + middle + ' ' + last\n",
    "print(fullname)"
   ]
  },
  {
   "cell_type": "markdown",
   "metadata": {},
   "source": [
    "# 7. A dartboard of radius 10 and the wall it is hanging on are represented using the two dimensional coordinate system, with the board’s center at coordinate (0; 0). Variables x and y store the x- and y-coordinate of a dart hit. Write an expression using variables x and y that evaluates to True if the dart hits (is within) the dartboard, and evaluate the expression for these dart coordinates:"
   ]
  },
  {
   "cell_type": "code",
   "execution_count": 85,
   "metadata": {},
   "outputs": [
    {
     "name": "stdout",
     "output_type": "stream",
     "text": [
      "Input value for x co-ordinate: 0\n",
      "Input value for y co-ordinate: 0\n",
      "0.0\n",
      "Hit\n"
     ]
    }
   ],
   "source": [
    "#(a) (0; 0)\n",
    "x = int(input(\"Input value for x co-ordinate: \"))\n",
    "y = int(input(\"Input value for y co-ordinate: \"))\n",
    "radius = int(10)\n",
    "import math\n",
    "distance = math.sqrt(x*x + y*y)\n",
    "print(distance)\n",
    "if distance<radius:\n",
    "    print(\"Hit\")\n",
    "else:\n",
    "    print(\"Miss\")"
   ]
  },
  {
   "cell_type": "code",
   "execution_count": 86,
   "metadata": {},
   "outputs": [
    {
     "name": "stdout",
     "output_type": "stream",
     "text": [
      "Input value for x co-ordinate: 10\n",
      "Input value for y co-ordinate: 10\n",
      "14.142135623730951\n",
      "Miss\n"
     ]
    }
   ],
   "source": [
    "#(b) (10; 10)\n",
    "x = int(input(\"Input value for x co-ordinate: \"))\n",
    "y = int(input(\"Input value for y co-ordinate: \"))\n",
    "radius = int(10)\n",
    "import math\n",
    "distance = math.sqrt(x*x + y*y)\n",
    "print(distance)\n",
    "if distance<radius:\n",
    "    print(\"Hit\")\n",
    "else:\n",
    "    print(\"Miss\")"
   ]
  },
  {
   "cell_type": "code",
   "execution_count": 87,
   "metadata": {},
   "outputs": [
    {
     "name": "stdout",
     "output_type": "stream",
     "text": [
      "Input value for x co-ordinate: 6\n",
      "Input value for y co-ordinate: 6\n",
      "8.48528137423857\n",
      "Hit\n"
     ]
    }
   ],
   "source": [
    "#(c) (6; 6)\n",
    "x = int(input(\"Input value for x co-ordinate: \"))\n",
    "y = int(input(\"Input value for y co-ordinate: \"))\n",
    "radius = int(10)\n",
    "import math\n",
    "distance = math.sqrt(x*x + y*y)\n",
    "print(distance)\n",
    "if distance<radius:\n",
    "    print(\"Hit\")\n",
    "else:\n",
    "    print(\"Miss\")"
   ]
  },
  {
   "cell_type": "code",
   "execution_count": 88,
   "metadata": {},
   "outputs": [
    {
     "name": "stdout",
     "output_type": "stream",
     "text": [
      "Input value for x co-ordinate: 7\n",
      "Input value for y co-ordinate: 8\n",
      "10.63014581273465\n",
      "Miss\n"
     ]
    }
   ],
   "source": [
    "#(d) (7; 8)\n",
    "x = int(input(\"Input value for x co-ordinate: \"))\n",
    "y = int(input(\"Input value for y co-ordinate: \"))\n",
    "radius = int(10)\n",
    "import math\n",
    "distance = math.sqrt(x*x + y*y)\n",
    "print(distance)\n",
    "if distance<radius:\n",
    "    print(\"Hit\")\n",
    "else:\n",
    "    print(\"Miss\")"
   ]
  },
  {
   "cell_type": "code",
   "execution_count": null,
   "metadata": {},
   "outputs": [],
   "source": []
  }
 ],
 "metadata": {
  "kernelspec": {
   "display_name": "Python 3",
   "language": "python",
   "name": "python3"
  },
  "language_info": {
   "codemirror_mode": {
    "name": "ipython",
    "version": 3
   },
   "file_extension": ".py",
   "mimetype": "text/x-python",
   "name": "python",
   "nbconvert_exporter": "python",
   "pygments_lexer": "ipython3",
   "version": "3.7.0"
  }
 },
 "nbformat": 4,
 "nbformat_minor": 2
}
