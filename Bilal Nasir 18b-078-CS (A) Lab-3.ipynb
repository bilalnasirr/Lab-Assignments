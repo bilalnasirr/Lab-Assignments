{
 "cells": [
  {
   "cell_type": "markdown",
   "metadata": {},
   "source": [
    "# Program 1: Practicing with math operators"
   ]
  },
  {
   "cell_type": "code",
   "execution_count": 1,
   "metadata": {},
   "outputs": [],
   "source": [
    "# Math Operators in Python\n",
    "# taking two values"
   ]
  },
  {
   "cell_type": "code",
   "execution_count": 7,
   "metadata": {},
   "outputs": [
    {
     "name": "stdout",
     "output_type": "stream",
     "text": [
      "Sum is: 32\n"
     ]
    }
   ],
   "source": [
    "a = 10\n",
    "b = 22\n",
    "#Using sum operator\n",
    "print(\"Sum is:\",a+b)"
   ]
  },
  {
   "cell_type": "code",
   "execution_count": 8,
   "metadata": {},
   "outputs": [
    {
     "name": "stdout",
     "output_type": "stream",
     "text": [
      "Difference is: -12\n"
     ]
    }
   ],
   "source": [
    "#Using substract operator\n",
    "print(\"Difference is:\",a-b)"
   ]
  },
  {
   "cell_type": "code",
   "execution_count": 9,
   "metadata": {},
   "outputs": [
    {
     "name": "stdout",
     "output_type": "stream",
     "text": [
      "Product is: 220\n"
     ]
    }
   ],
   "source": [
    "#Using multiplication operator\n",
    "print(\"Product is:\",a*b)"
   ]
  },
  {
   "cell_type": "code",
   "execution_count": 10,
   "metadata": {},
   "outputs": [
    {
     "name": "stdout",
     "output_type": "stream",
     "text": [
      "Division is: 0.45454545454545453\n"
     ]
    }
   ],
   "source": [
    "#Using division operator\n",
    "print(\"Division is:\",a/b)"
   ]
  },
  {
   "cell_type": "code",
   "execution_count": 11,
   "metadata": {},
   "outputs": [
    {
     "name": "stdout",
     "output_type": "stream",
     "text": [
      "Integer Division is: 0\n"
     ]
    }
   ],
   "source": [
    "#Using integer division operator\n",
    "print(\"Integer Division is:\",a//b)"
   ]
  },
  {
   "cell_type": "code",
   "execution_count": 12,
   "metadata": {},
   "outputs": [
    {
     "name": "stdout",
     "output_type": "stream",
     "text": [
      "Raised to the Power is: 10000000000000000000000\n"
     ]
    }
   ],
   "source": [
    "#Using power operator\n",
    "print(\"Raised to the Power is:\",a**b)"
   ]
  },
  {
   "cell_type": "code",
   "execution_count": 13,
   "metadata": {},
   "outputs": [
    {
     "name": "stdout",
     "output_type": "stream",
     "text": [
      "Remainder is: 10\n"
     ]
    }
   ],
   "source": [
    "#Using modulo operator\n",
    "print(\"Remainder is:\",a%b)"
   ]
  },
  {
   "cell_type": "markdown",
   "metadata": {},
   "source": [
    "# 2: Write a program to use assignment operators"
   ]
  },
  {
   "cell_type": "code",
   "execution_count": 14,
   "metadata": {},
   "outputs": [
    {
     "name": "stdout",
     "output_type": "stream",
     "text": [
      "8\n"
     ]
    }
   ],
   "source": [
    "#Using plus and assign operator\n",
    "x = 5 \n",
    "x += 3\n",
    "print(x)"
   ]
  },
  {
   "cell_type": "code",
   "execution_count": 15,
   "metadata": {},
   "outputs": [
    {
     "name": "stdout",
     "output_type": "stream",
     "text": [
      "2\n"
     ]
    }
   ],
   "source": [
    "#Using substract and assign operator\n",
    "x = 5\n",
    "x -= 3\n",
    "print(x)"
   ]
  },
  {
   "cell_type": "code",
   "execution_count": 17,
   "metadata": {},
   "outputs": [
    {
     "name": "stdout",
     "output_type": "stream",
     "text": [
      "15\n"
     ]
    }
   ],
   "source": [
    "#Using multiplication and assign operator\n",
    "x = 5 \n",
    "x *= 3\n",
    "print(x)"
   ]
  },
  {
   "cell_type": "code",
   "execution_count": 18,
   "metadata": {},
   "outputs": [
    {
     "name": "stdout",
     "output_type": "stream",
     "text": [
      "1.6666666666666667\n"
     ]
    }
   ],
   "source": [
    "#Using division and assign operator\n",
    "x  = 5\n",
    "x /= 3\n",
    "print(x)"
   ]
  },
  {
   "cell_type": "code",
   "execution_count": 19,
   "metadata": {},
   "outputs": [
    {
     "name": "stdout",
     "output_type": "stream",
     "text": [
      "2\n"
     ]
    }
   ],
   "source": [
    "#Using modulo and assign operator\n",
    "x = 5\n",
    "x %= 3\n",
    "print(x)"
   ]
  },
  {
   "cell_type": "code",
   "execution_count": 20,
   "metadata": {},
   "outputs": [
    {
     "name": "stdout",
     "output_type": "stream",
     "text": [
      "1\n"
     ]
    }
   ],
   "source": [
    "#Using integer division and assign operator\n",
    "x = 5\n",
    "x //= 3 \n",
    "print(x)"
   ]
  },
  {
   "cell_type": "code",
   "execution_count": 21,
   "metadata": {},
   "outputs": [
    {
     "name": "stdout",
     "output_type": "stream",
     "text": [
      "125\n"
     ]
    }
   ],
   "source": [
    "#Using exponentiation and equal to operator\n",
    "x = 5\n",
    "x **= 3\n",
    "print(x)"
   ]
  },
  {
   "cell_type": "code",
   "execution_count": 32,
   "metadata": {},
   "outputs": [
    {
     "name": "stdout",
     "output_type": "stream",
     "text": [
      "1\n"
     ]
    }
   ],
   "source": [
    "#Using logical AND and assign operator\n",
    "x = 5\n",
    "x &= 3\n",
    "print(x)"
   ]
  },
  {
   "cell_type": "code",
   "execution_count": 33,
   "metadata": {},
   "outputs": [
    {
     "name": "stdout",
     "output_type": "stream",
     "text": [
      "7\n"
     ]
    }
   ],
   "source": [
    "#Using logical OR and assign operator\n",
    "x = 5 \n",
    "x |= 3\n",
    "print(x)"
   ]
  },
  {
   "cell_type": "code",
   "execution_count": 37,
   "metadata": {},
   "outputs": [
    {
     "name": "stdout",
     "output_type": "stream",
     "text": [
      "6\n"
     ]
    }
   ],
   "source": [
    "#Using exclusive OR and assign operator\n",
    "x = 5\n",
    "x ^= 3\n",
    "print(x)"
   ]
  },
  {
   "cell_type": "code",
   "execution_count": 25,
   "metadata": {},
   "outputs": [
    {
     "name": "stdout",
     "output_type": "stream",
     "text": [
      "0\n"
     ]
    }
   ],
   "source": [
    "#Using binary right shift and assign operator\n",
    "x = 5\n",
    "x >>= 3\n",
    "print(x)"
   ]
  },
  {
   "cell_type": "code",
   "execution_count": 26,
   "metadata": {},
   "outputs": [
    {
     "name": "stdout",
     "output_type": "stream",
     "text": [
      "40\n"
     ]
    }
   ],
   "source": [
    "#Using binary left shift and assign operator\n",
    "x = 5 \n",
    "x <<= 3\n",
    "print(x)"
   ]
  },
  {
   "cell_type": "markdown",
   "metadata": {},
   "source": [
    "# Program 3: Write a program to perform comparison operators."
   ]
  },
  {
   "cell_type": "code",
   "execution_count": 27,
   "metadata": {},
   "outputs": [
    {
     "name": "stdout",
     "output_type": "stream",
     "text": [
      "X is equal to Y: False\n"
     ]
    }
   ],
   "source": [
    "x=20\n",
    "y=15\n",
    "#Using equal to operator\n",
    "print(\"X is equal to Y:\",x==y)"
   ]
  },
  {
   "cell_type": "code",
   "execution_count": 29,
   "metadata": {},
   "outputs": [
    {
     "name": "stdout",
     "output_type": "stream",
     "text": [
      "X is not equal to Y: True\n"
     ]
    }
   ],
   "source": [
    "#Using not equal to operator\n",
    "print(\"X is not equal to Y:\",x!=y)"
   ]
  },
  {
   "cell_type": "code",
   "execution_count": 30,
   "metadata": {},
   "outputs": [
    {
     "name": "stdout",
     "output_type": "stream",
     "text": [
      "X is Greater than Y: True\n"
     ]
    }
   ],
   "source": [
    "#Using Greater than operator\n",
    "print(\"X is Greater than Y:\",x>y)"
   ]
  },
  {
   "cell_type": "code",
   "execution_count": 31,
   "metadata": {},
   "outputs": [
    {
     "name": "stdout",
     "output_type": "stream",
     "text": [
      "X is Less than Y: False\n"
     ]
    }
   ],
   "source": [
    "#Using Less than operator\n",
    "print(\"X is Less than Y:\",x<y)"
   ]
  },
  {
   "cell_type": "code",
   "execution_count": 35,
   "metadata": {},
   "outputs": [
    {
     "name": "stdout",
     "output_type": "stream",
     "text": [
      "X is Greater than or equal to Y: False\n"
     ]
    }
   ],
   "source": [
    "#Using Greater than or equal to operator\n",
    "print(\"X is Greater than or equal to Y:\",x>=y)\n"
   ]
  },
  {
   "cell_type": "code",
   "execution_count": 36,
   "metadata": {},
   "outputs": [
    {
     "name": "stdout",
     "output_type": "stream",
     "text": [
      "X is Less than or equal to Y: True\n"
     ]
    }
   ],
   "source": [
    "#Using less than or equal to operator\n",
    "print(\"X is Less than or equal to Y:\",x<=y)"
   ]
  },
  {
   "cell_type": "markdown",
   "metadata": {},
   "source": [
    "# Program 4: Write a program to perform logical operators."
   ]
  },
  {
   "cell_type": "code",
   "execution_count": 38,
   "metadata": {},
   "outputs": [
    {
     "name": "stdout",
     "output_type": "stream",
     "text": [
      "True\n"
     ]
    }
   ],
   "source": [
    "x=15\n",
    "#Using Less than and Greater than operator\n",
    "print(x>13 and x<20)"
   ]
  },
  {
   "cell_type": "code",
   "execution_count": 39,
   "metadata": {},
   "outputs": [
    {
     "name": "stdout",
     "output_type": "stream",
     "text": [
      "True\n"
     ]
    }
   ],
   "source": [
    "x=25\n",
    "#Using Greater than and Less than operator\n",
    "print(x>23 or x<24)"
   ]
  },
  {
   "cell_type": "code",
   "execution_count": 40,
   "metadata": {},
   "outputs": [
    {
     "name": "stdout",
     "output_type": "stream",
     "text": [
      "False\n"
     ]
    }
   ],
   "source": [
    "x=35\n",
    "#Using NOT,Greater than and Less than operator\n",
    "print(not(x>33 and x<40))"
   ]
  },
  {
   "cell_type": "markdown",
   "metadata": {},
   "source": [
    "# Program 5: Write a program to perform identity operator."
   ]
  },
  {
   "cell_type": "code",
   "execution_count": 42,
   "metadata": {},
   "outputs": [
    {
     "name": "stdout",
     "output_type": "stream",
     "text": [
      "True\n",
      "False\n",
      "True\n"
     ]
    }
   ],
   "source": [
    "x=[\"ahmed\",\"bashir\"]\n",
    "y=[\"ahmed\",\"bashir\"]\n",
    "z=x\n",
    "#Using IS operator\n",
    "print(x is z)\n",
    "print(x is y)\n",
    "#Using equal to operator\n",
    "print(x==y)"
   ]
  },
  {
   "cell_type": "markdown",
   "metadata": {},
   "source": [
    "# Program 6: Performing is not identity operation."
   ]
  },
  {
   "cell_type": "code",
   "execution_count": 43,
   "metadata": {},
   "outputs": [
    {
     "ename": "SyntaxError",
     "evalue": "invalid syntax (<ipython-input-43-273503cd08e9>, line 7)",
     "output_type": "error",
     "traceback": [
      "\u001b[1;36m  File \u001b[1;32m\"<ipython-input-43-273503cd08e9>\"\u001b[1;36m, line \u001b[1;32m7\u001b[0m\n\u001b[1;33m    print(x <> y)\u001b[0m\n\u001b[1;37m             ^\u001b[0m\n\u001b[1;31mSyntaxError\u001b[0m\u001b[1;31m:\u001b[0m invalid syntax\n"
     ]
    }
   ],
   "source": [
    "x=[\"ahmed\",\"bashir\"]\n",
    "y=[\"ahmed\",\"bashir\"]\n",
    "z=x\n",
    "#Using IS NOT operator\n",
    "print(x is not z)\n",
    "print(x is not y)\n",
    "#print(x <> y)\n"
   ]
  },
  {
   "cell_type": "markdown",
   "metadata": {},
   "source": [
    "# Program 7: Performing 'in' membership operation."
   ]
  },
  {
   "cell_type": "code",
   "execution_count": 1,
   "metadata": {},
   "outputs": [
    {
     "name": "stdout",
     "output_type": "stream",
     "text": [
      "False\n"
     ]
    }
   ],
   "source": [
    "x = [\"wasim\", \"lubaid\", \"shahroz\", \"usman\", \"faisal\", \"farhan\"]\n",
    "#Using IN operator\n",
    "print(\"faisal\" not in x)"
   ]
  },
  {
   "cell_type": "markdown",
   "metadata": {},
   "source": [
    "# Program 8: Performing 'not in' membership operation."
   ]
  },
  {
   "cell_type": "code",
   "execution_count": 45,
   "metadata": {},
   "outputs": [
    {
     "name": "stdout",
     "output_type": "stream",
     "text": [
      "True\n"
     ]
    }
   ],
   "source": [
    "x = [\"wasim\", \"lubaid\", \"shahroz\", \"usman\", \"faisal\", \"farhan\"]\n",
    "#Using NOT IN operator\n",
    "print(\"prakash\" not in x)"
   ]
  },
  {
   "cell_type": "markdown",
   "metadata": {},
   "source": [
    "# Program 9: You are planning to throw a small bird at a distance d, with time t, and height h to some structure. Write a code in which you will use the physical quantities such as initial velocity, final velocity, angle in radians, gravity, height, sling shot etc."
   ]
  },
  {
   "cell_type": "code",
   "execution_count": 20,
   "metadata": {
    "scrolled": false
   },
   "outputs": [
    {
     "name": "stdout",
     "output_type": "stream",
     "text": [
      "Give me a velocity to fire at (in m/s): 33\n",
      "Give me an angle to fire at: 33\n",
      "Give me how far away you are from the structure: 44\n",
      "Give me the height of the structure (in meters): 55\n",
      "Slingshot = 5\n",
      "Gravity = 9.8\n",
      "Time : 1.5898177237812632\n",
      "Angle at x-axis : 0.838670567945424\n",
      "Angle at y-axis : -15.035574658041353\n",
      "Final Velocity : 15.058946630461019\n"
     ]
    }
   ],
   "source": [
    "import math\n",
    "#User Inputs\n",
    "velocity = float(input('Give me a velocity to fire at (in m/s): '))\n",
    "angle = float(input('Give me an angle to fire at: '))\n",
    "distance = float(input('Give me how far away you are from the structure: '))\n",
    "height = float(input('Give me the height of the structure (in meters): '))\n",
    "#Height of slingshot in meters\n",
    "slingshot = 5\n",
    "print(\"Slingshot = 5\")\n",
    "#Earth gravity\n",
    "gravity = 9.8 \n",
    "print(\"Gravity = 9.8\")\n",
    "#Converting angles to radians\n",
    "angle_rad = math.radians(angle)\n",
    "#Computing our x and y coordinate\n",
    "x = math.cos(angle_rad)\n",
    "y = math.sin(angle_rad)\n",
    "#CALCULATIONS\n",
    "time = distance/(velocity * x)\n",
    "vx = x\n",
    "vy = y + (-9.8 * time)\n",
    "final_velocity = math.sqrt((vx ** 2) + (vy ** 2))\n",
    "print(\"Time :\",time)\n",
    "print(\"Angle at x-axis :\",vx)\n",
    "print(\"Angle at y-axis :\",vy)\n",
    "print(\"Final Velocity :\",final_velocity)"
   ]
  },
  {
   "cell_type": "markdown",
   "metadata": {},
   "source": [
    "# Programming Exercise"
   ]
  },
  {
   "cell_type": "markdown",
   "metadata": {},
   "source": [
    "# Question 1. A ball at the end of a string is revolving uniformly in a horizontal circle of radius 2 meters at constant angular speed 10 rad/s. Determine the magnitude of the linear velocity of a point located:"
   ]
  },
  {
   "cell_type": "code",
   "execution_count": 2,
   "metadata": {},
   "outputs": [
    {
     "name": "stdout",
     "output_type": "stream",
     "text": [
      "Input radius in meters : 0.5\n",
      "Input angular speed in radians/second : 10\n",
      "Velocity : 0.08726646259971647 m/s\n"
     ]
    }
   ],
   "source": [
    "#(a) 0.5 meters from the center\n",
    "import math\n",
    "#INPUTS\n",
    "radius = float(input(\"Input radius in meters : \"))\n",
    "speed = float(input(\"Input angular speed in radians/second : \"))\n",
    "speed_radians = math.radians(speed)\n",
    "#Formula\n",
    "velocity = str(speed_radians*radius)\n",
    "print(\"Velocity : \" + velocity + \" \" + \"m/s\")"
   ]
  },
  {
   "cell_type": "code",
   "execution_count": 17,
   "metadata": {},
   "outputs": [
    {
     "name": "stdout",
     "output_type": "stream",
     "text": [
      "Input radius in meters : 0.5\n",
      "Input angular speed in radians/second : 10\n",
      "Velocity : 0.08726646259971647 m/s\n"
     ]
    }
   ],
   "source": [
    "#(b) 1 meter from the center\n",
    "import math\n",
    "#INPUTS\n",
    "radius = float(input(\"Input radius in meters : \"))\n",
    "speed = float(input(\"Input angular speed in radians/second : \"))\n",
    "speed_radians = math.radians(speed)\n",
    "#Formula\n",
    "velocity = str(speed_radians*radius)\n",
    "print(\"Velocity : \" + velocity + \" \" + \"m/s\")"
   ]
  },
  {
   "cell_type": "code",
   "execution_count": 14,
   "metadata": {},
   "outputs": [
    {
     "name": "stdout",
     "output_type": "stream",
     "text": [
      "Input radius in meters : 2\n",
      "Input angular speed in radians/second : 10\n",
      "Velocity : 0.3490658503988659 m/s\n"
     ]
    }
   ],
   "source": [
    "#(c) 2 meters from the center\n",
    "import math\n",
    "#INPUTS\n",
    "radius = float(input(\"Input radius in meters : \"))\n",
    "speed = float(input(\"Input angular speed in radians/second : \"))\n",
    "speed_radians = math.radians(speed)\n",
    "#Formula\n",
    "velocity = str(speed_radians*radius)\n",
    "print(\"Velocity : \" + velocity + \" \" + \"m/s\")"
   ]
  },
  {
   "cell_type": "markdown",
   "metadata": {},
   "source": [
    "# Question 2. The blades in a blender rotate at a rate of 5000 rpm. Determine the magnitude of the linear velocity"
   ]
  },
  {
   "cell_type": "code",
   "execution_count": 18,
   "metadata": {},
   "outputs": [
    {
     "name": "stdout",
     "output_type": "stream",
     "text": [
      "Input radius in centimeters : 5\n",
      "Input angular speed in radians/second : 523.3\n",
      "Velocity : 45.66653987843162 m/s\n"
     ]
    }
   ],
   "source": [
    "#(a) a point located 5 cm from the center\n",
    "import math\n",
    "#INPUTS\n",
    "radius = float(input(\"Input radius in centimeters : \"))\n",
    "speed = float(input(\"Input angular speed in radians/second : \"))\n",
    "speed_radians = math.radians(speed)\n",
    "#The angular speed (ω) = 5000 revolutions / 60 seconds = 83.3 revolutions / second = (83.3)(6.28 radian) / second = 523.3 radians / second\n",
    "#Formula\n",
    "velocity = str(speed_radians*radius)\n",
    "print(\"Velocity : \" + velocity + \" \" + \"m/s\")"
   ]
  },
  {
   "cell_type": "code",
   "execution_count": 20,
   "metadata": {},
   "outputs": [
    {
     "name": "stdout",
     "output_type": "stream",
     "text": [
      "Input radius in centimeters : 10\n",
      "Input angular speed in radians/second : 523.3\n",
      "Velocity : 91.33307975686324 m/s\n"
     ]
    }
   ],
   "source": [
    "#(b) a point located 10 cm from the center\n",
    "import math\n",
    "#INPUTS\n",
    "radius = float(input(\"Input radius in centimeters : \"))\n",
    "speed = float(input(\"Input angular speed in radians/second : \"))\n",
    "speed_radians = math.radians(speed)\n",
    "#The angular speed (ω) = 5000 revolutions / 60 seconds = 83.3 revolutions / second = (83.3)(6.28 radian) / second = 523.3 radians / second\n",
    "#Formula\n",
    "velocity = str(speed_radians*radius)\n",
    "print(\"Velocity : \" + velocity + \" \" + \"m/s\")"
   ]
  },
  {
   "cell_type": "markdown",
   "metadata": {},
   "source": [
    "# Question 3. A point on the edge of a wheel 30 cm in radius, around a circle at constant speed 10 meters/second. What is the magnitude of the angular velocity?"
   ]
  },
  {
   "cell_type": "code",
   "execution_count": 1,
   "metadata": {},
   "outputs": [
    {
     "name": "stdout",
     "output_type": "stream",
     "text": [
      "Input radius of wheel in centimeters : 30\n",
      "Input speed in meters/second : 10\n",
      "Velocity : 300.0 m/s\n"
     ]
    }
   ],
   "source": [
    "import math\n",
    "#INPUTS\n",
    "radius = float(input(\"Input radius of wheel in centimeters : \"))\n",
    "speed = float(input(\"Input speed in meters/second : \"))\n",
    "velocity = str(speed*radius)\n",
    "print(\"Velocity : \" + velocity + \" \" + \"m/s\")"
   ]
  },
  {
   "cell_type": "markdown",
   "metadata": {},
   "source": [
    "# Question 4. A car with tires 50 cm in diameter travels 10 meters in 1 second. What is the angular speed?"
   ]
  },
  {
   "cell_type": "code",
   "execution_count": 4,
   "metadata": {},
   "outputs": [
    {
     "name": "stdout",
     "output_type": "stream",
     "text": [
      "Input diameter of wheel in meters : 0.25\n",
      "Input speed in meters/second : 10\n",
      "Time in seconds : 1\n",
      "Velocity : 5.0 m/s\n"
     ]
    }
   ],
   "source": [
    "#Known: Radius (r) = 0.25 meter,\n",
    "#The linear speed of a point on the edge of tires (v) = 10 meters/second \n",
    "#Wanted: The angular speed \n",
    "#Formula: v = r ω\n",
    "import math\n",
    "#INPUTS\n",
    "diameter = float(input(\"Input diameter of wheel in meters : \"))\n",
    "speed = float(input(\"Input speed in meters/second : \"))\n",
    "time = int(input(\"Time in seconds : \"))\n",
    "velocity = str(speed*radius)\n",
    "print(\"Velocity : \" + velocity + \" \" + \"m/s\")"
   ]
  },
  {
   "cell_type": "markdown",
   "metadata": {},
   "source": [
    "# Question 5. The angular speed of wheel 20 cm in radians is 120 rpm. What is the distance if the car travels in 10 seconds"
   ]
  },
  {
   "cell_type": "code",
   "execution_count": 5,
   "metadata": {},
   "outputs": [],
   "source": [
    "#Known: Radius (r) = 20 cm = 0.2 meters The angular speed = 120 rev / 60 seconds = 2 rev / second = (2)(6.28) radians / second = 12.56 radians / second Wanted: distance Formula: v = r ω"
   ]
  },
  {
   "cell_type": "code",
   "execution_count": 3,
   "metadata": {},
   "outputs": [
    {
     "name": "stdout",
     "output_type": "stream",
     "text": [
      "Input radius of wheel in centimeters : 20\n",
      "Input angular speed in rotations/minute : 12.56\n",
      "Time in seconds : 10\n",
      "Velocity : 2.5120000000000005\n",
      "The distance if the car travels in 10 seconds is : 25.120000000000005\n"
     ]
    }
   ],
   "source": [
    "import math\n",
    "#INPUTS\n",
    "radius = float(input(\"Input radius of wheel in centimeters : \"))\n",
    "radiusm = (radius/100)\n",
    "speed = float(input(\"Input angular speed in rotations/minute : \"))\n",
    "time = float(input(\"Time in seconds : \"))\n",
    "velocity= float()\n",
    "velocity = (speed*radiusm)\n",
    "#print(velocity)\n",
    "print(\"Velocity :\", velocity)\n",
    "distance = float()\n",
    "#distance = (velocity*time)\n",
    "print(\"The distance if the car travels in 10 seconds is :\" ,(velocity*10))"
   ]
  },
  {
   "cell_type": "markdown",
   "metadata": {},
   "source": [
    "# Question 6: A car is running at a velocity of 50 miles per hour and the driver accelerates the car by 10 miles/hrsquare. How far the car travels from this point in the next 2 hours, if the acceleration is constant.\n"
   ]
  },
  {
   "cell_type": "code",
   "execution_count": 20,
   "metadata": {
    "scrolled": true
   },
   "outputs": [
    {
     "name": "stdout",
     "output_type": "stream",
     "text": [
      "Velocity of a car running in miles per hour: 50\n",
      "Acceleration in miles/hour: 10\n",
      "Time in hours: 2\n",
      "Final velocity of the Car : 70.0 m/s\n",
      "The car will travel 120.0 meters in the next 2 hours\n"
     ]
    }
   ],
   "source": [
    "#Formula: v = u + at\n",
    "import math\n",
    "u = float(input(\"Velocity of a car running in miles per hour: \"))\n",
    "a = float(input(\"Acceleration in miles/hour: \"))\n",
    "t = float(input(\"Time in hours: \"))\n",
    "#Coverting miles and hour into meters and seconds\n",
    "v = u + a*t \n",
    "print(\"Final velocity of the Car :\",v, \"m/s\")\n",
    "#vsq - usq =2as\n",
    "s = ((70**2) - (50**2)) / (2*a)\n",
    "print(\"The car will travel\", s ,\"meters in the next 2 hours\")"
   ]
  },
  {
   "cell_type": "markdown",
   "metadata": {},
   "source": [
    "# Question 7: A Stone is dropped freely from a height of 100 feet. With what velocity will it hit the ground?\n",
    "#(Neglect the air resistance and assume the acceleration due to gravity is 32ft/s2).\n",
    "#Formula: v2 – u2 = 2as"
   ]
  },
  {
   "cell_type": "code",
   "execution_count": 21,
   "metadata": {},
   "outputs": [
    {
     "name": "stdout",
     "output_type": "stream",
     "text": [
      "A stone is dropped from a height of: 100 ft\n",
      "Initial velocity of the stone is:  32 ft/s**2\n",
      "Initial velocity of the stone is:  0 ft/s\n",
      "The final velocity of the stone is: 6400 ft/s\n"
     ]
    }
   ],
   "source": [
    "import math\n",
    "#users input\n",
    "#height\n",
    "s= 100\n",
    "print(\"A stone is dropped from a height of:\" ,s, \"ft\")\n",
    "#acceleration due to gravity\n",
    "a = 32\n",
    "print(\"Initial velocity of the stone is: \" ,a, \"ft/s**2\")\n",
    "u = 0\n",
    "print(\"Initial velocity of the stone is: \" ,u, \"ft/s\")\n",
    "v = ()\n",
    "#cal\n",
    "v = 2*a*s + u**s\n",
    "print(\"The final velocity of the stone is:\" ,v, \"ft/s\")\n"
   ]
  },
  {
   "cell_type": "code",
   "execution_count": null,
   "metadata": {},
   "outputs": [],
   "source": []
  }
 ],
 "metadata": {
  "kernelspec": {
   "display_name": "Python 3",
   "language": "python",
   "name": "python3"
  },
  "language_info": {
   "codemirror_mode": {
    "name": "ipython",
    "version": 3
   },
   "file_extension": ".py",
   "mimetype": "text/x-python",
   "name": "python",
   "nbconvert_exporter": "python",
   "pygments_lexer": "ipython3",
   "version": "3.7.0"
  }
 },
 "nbformat": 4,
 "nbformat_minor": 2
}
