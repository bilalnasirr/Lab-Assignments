{
 "cells": [
  {
   "cell_type": "code",
   "execution_count": 22,
   "metadata": {
    "scrolled": true
   },
   "outputs": [
    {
     "name": "stdout",
     "output_type": "stream",
     "text": [
      "Input the value of 'a': 2\n",
      "Input the value of 'b': 3\n",
      "Input the value of 'c': 5\n",
      "The two solutions are: (-3+5.5677643628300215j) (-3-5.5677643628300215j)\n"
     ]
    }
   ],
   "source": [
    "\"\"\"\"Write a program which solves the quadratic equation. The user will enter the value of a, b and c.\n",
    "The program will then check the denominator that if denominator is zero or not. If its zero it can\n",
    "reply the equation cannot solve as there is a zero division else, it will execute the program and will\n",
    "generate two solutions\"\"\"\n",
    "import cmath\n",
    "a=float(input(\"Input the value of 'a': \"))\n",
    "b=float(input(\"Input the value of 'b': \"))\n",
    "c=float(input(\"Input the value of 'c': \"))\n",
    "d=(b**2)-(4*a*c) #so that its easy to put value\n",
    "x1=(-b+cmath.sqrt(d))/2*a\n",
    "x2=(-b-cmath.sqrt(d))/2*a\n",
    "if(2*a==0): \n",
    "    print(\"The equation cannot be solved as there is a zero division\")\n",
    "else:\n",
    "    print(\"The two solutions are:\",x1,x2)"
   ]
  },
  {
   "cell_type": "code",
   "execution_count": 23,
   "metadata": {},
   "outputs": [
    {
     "name": "stdout",
     "output_type": "stream",
     "text": [
      "Input the value of 'a': 0\n",
      "Input the value of 'b': 3\n",
      "Input the value of 'c': 5\n",
      "The equation cannot be solved as there is a zero division\n"
     ]
    }
   ],
   "source": [
    "import cmath\n",
    "a=float(input(\"Input the value of 'a': \"))\n",
    "b=float(input(\"Input the value of 'b': \"))\n",
    "c=float(input(\"Input the value of 'c': \"))\n",
    "d=(b**2)-(4*a*c) #so that its easy to put value\n",
    "x1=(-b+cmath.sqrt(d))/2*a\n",
    "x2=(-b-cmath.sqrt(d))/2*a\n",
    "if(2*a==0): \n",
    "    print(\"The equation cannot be solved as there is a zero division\")\n",
    "else:\n",
    "    print(\"The two solutions are:\",x1,x2)"
   ]
  },
  {
   "cell_type": "code",
   "execution_count": 29,
   "metadata": {},
   "outputs": [
    {
     "name": "stdout",
     "output_type": "stream",
     "text": [
      "Enter the first term: 3\n",
      "Enter the common difference: 6\n",
      "Enter the term position: 35\n",
      "Do you want to continue?: yes\n",
      "The nth term is: 207\n"
     ]
    }
   ],
   "source": [
    "\"\"\"Calculate the arithmetic sequence of n numbers. The program will generate the nth term of the\n",
    "sequence, whereas the user will enter the first term and the common difference. The program will\n",
    "then ask either to continue or not, if the user will enter yes it will ask the next nth term to calculate.\n",
    "Example: you have entered the first term as 3 and common difference 6 you are interesting in 35th\n",
    "term. So it will calculate and generate the answer as 207. Now it will again ask for you to continue\n",
    "if you agree it will ask next term like 45th or 96th term to calculate.\n",
    "𝑎𝑛 = 𝑎1 + (𝑛 − 1)𝑑\"\"\"\n",
    "import cmath\n",
    "fterm=int(input(\"Enter the first term: \"))\n",
    "diff=int(input(\"Enter the common difference: \"))\n",
    "nterm=int(input(\"Enter the term position: \"))\n",
    "an=fterm + (nterm - 1)*diff \n",
    "permission = input(\"Do you want to continue?: \")\n",
    "if(permission==\"yes\"):\n",
    "    print(\"The nth term is:\" ,an)\n",
    "    "
   ]
  },
  {
   "cell_type": "code",
   "execution_count": 50,
   "metadata": {},
   "outputs": [
    {
     "name": "stdout",
     "output_type": "stream",
     "text": [
      "Enter any word: RaCeCAR\n",
      "Yes your string is palindrome\n"
     ]
    }
   ],
   "source": [
    "\"\"\"Write a program which will check either the giving string is Palindrome or not. Palindrome is a\n",
    "string when we reverse the string it will generate the original string. Example CIVIC, MOM, 010,\n",
    "1001, etc. So if you enter the word which is Palindrome it will say yes your string is Palindrome\n",
    "otherwise it will generate sorry message.[Hint: As user may enter upper or lower case, so you may use myString.casefold(). \n",
    "A casefold() will remove all the upper and lower case problems. To generate the reverse of string you can use reversed()\n",
    "function on your string.\"\"\"\n",
    "word=str(input(\"Enter any word: \"))\n",
    "word=word.casefold()\n",
    "secword=reversed(word)\n",
    "if list(word)==list(secword):\n",
    "    print(\"Yes your string is palindrome\")\n",
    "else:\n",
    "    print(\"Sorry your string is not a palindrome\")"
   ]
  },
  {
   "cell_type": "code",
   "execution_count": 51,
   "metadata": {},
   "outputs": [
    {
     "name": "stdout",
     "output_type": "stream",
     "text": [
      "Enter any word: BilAL\n",
      "Sorry your string is not a palindrome\n"
     ]
    }
   ],
   "source": [
    "word=str(input(\"Enter any word: \"))\n",
    "word=word.casefold()\n",
    "secword=reversed(word)\n",
    "if list(word)==list(secword):\n",
    "    print(\"Yes your string is palindrome\")\n",
    "else:\n",
    "    print(\"Sorry your string is not a palindrome\")"
   ]
  },
  {
   "cell_type": "code",
   "execution_count": 37,
   "metadata": {},
   "outputs": [
    {
     "name": "stdout",
     "output_type": "stream",
     "text": [
      "Enter Your Name :Bilal\n",
      "Enter Your Father's Name :Nasir\n",
      "Enter Your Roll Number :18b-078-cs\n",
      "Enter marks obtained in English :78\n",
      "Enter marks obtained in Urdu :89\n",
      "Enter marks obtained in Maths :97\n",
      "Enter marks obtained in ICT :70\n",
      "Enter marks obtained in Islamiat87\n",
      "Name:  Bilal\n",
      "Father's Name:  Nasir\n",
      "Roll Number:  18b-078-cs\n",
      "Marks obtained in ENGLISH =  78.0 \n",
      " URDU =  89.0 \n",
      " MATHS =  97.0 \n",
      " ICT =  70.0 \n",
      " Islamiat =  87.0\n",
      "Totalmarks obtained are 421.0\n",
      "Grade A\n",
      "The percentage is:  118.76484560570071 %\n"
     ]
    }
   ],
   "source": [
    "\"\"\"Write a program which will collect your name, your father’s name, your roll number and your\n",
    "subjects (5 Subjects with name and numbers). At the end it will generate a result with your name,\n",
    "your father’s name, your details subjects, marks you have obtained with total marks with grade and\n",
    "percentage.\"\"\"\n",
    "urname=str(input(\"Enter Your Name :\"))\n",
    "fname=str(input(\"Enter Your Father's Name :\"))\n",
    "rollno=str(input(\"Enter Your Roll Number :\"))\n",
    "eng=float(input(\"Enter marks obtained in English :\"))\n",
    "urdu=float(input(\"Enter marks obtained in Urdu :\"))\n",
    "maths=float(input(\"Enter marks obtained in Maths :\"))\n",
    "ict=float(input(\"Enter marks obtained in ICT :\"))\n",
    "isl=float(input(\"Enter marks obtained in Islamiat\"))\n",
    "print(\"Name: \",urname)\n",
    "print(\"Father's Name: \",fname)\n",
    "print(\"Roll Number: \",rollno)\n",
    "print(\"Marks obtained in ENGLISH = \",eng,\"\\n\",\"URDU = \",urdu,\"\\n\",\"MATHS = \",maths,\"\\n\",\"ICT = \",ict,\"\\n\",\"Islamiat = \",isl)\n",
    "scores= (eng+urdu+maths+ict+isl)\n",
    "print(\"Totalmarks obtained are\",scores)\n",
    "#def marks(scores):\n",
    "if(scores >=80):\n",
    "    print(\"Grade A\")\n",
    "elif(scores >= 70):\n",
    "    print(\"Grade B\")\n",
    "elif(scores >= 60):\n",
    "    print(\"Grade C\")\n",
    "elif(scores >= 50):\n",
    "    print(\"Grade D\")\n",
    "elif(scores <50):\n",
    "    print(\"Grade F\")\n",
    "percentage=(500/scores)*100\n",
    "print(\"The percentage is: \",percentage,\"%\")"
   ]
  },
  {
   "cell_type": "code",
   "execution_count": 1,
   "metadata": {},
   "outputs": [
    {
     "name": "stdout",
     "output_type": "stream",
     "text": [
      "Enter the initial value: 2\n",
      "Enter the final value: 3\n",
      "\n",
      "row\n",
      "1 "
     ]
    },
    {
     "ename": "IndexError",
     "evalue": "list index out of range",
     "output_type": "error",
     "traceback": [
      "\u001b[1;31m---------------------------------------------------------------------------\u001b[0m",
      "\u001b[1;31mIndexError\u001b[0m                                Traceback (most recent call last)",
      "\u001b[1;32m<ipython-input-1-2de0be2fc53c>\u001b[0m in \u001b[0;36m<module>\u001b[1;34m()\u001b[0m\n\u001b[0;32m     14\u001b[0m     \u001b[0mprint\u001b[0m\u001b[1;33m(\u001b[0m\u001b[1;34m\"\\nrow\"\u001b[0m\u001b[1;33m)\u001b[0m\u001b[1;33m\u001b[0m\u001b[0m\n\u001b[0;32m     15\u001b[0m     \u001b[1;32mfor\u001b[0m \u001b[0mcol\u001b[0m \u001b[1;32min\u001b[0m \u001b[0mrange\u001b[0m\u001b[1;33m(\u001b[0m\u001b[0mf_value\u001b[0m\u001b[1;33m)\u001b[0m\u001b[1;33m:\u001b[0m\u001b[1;33m\u001b[0m\u001b[0m\n\u001b[1;32m---> 16\u001b[1;33m         \u001b[0mprint\u001b[0m\u001b[1;33m(\u001b[0m\u001b[0mtable\u001b[0m\u001b[1;33m[\u001b[0m\u001b[0mrow\u001b[0m\u001b[1;33m]\u001b[0m\u001b[1;33m[\u001b[0m\u001b[0mcol\u001b[0m\u001b[1;33m]\u001b[0m\u001b[1;33m,\u001b[0m\u001b[1;34m\"\"\u001b[0m \u001b[1;33m,\u001b[0m\u001b[0mend\u001b[0m\u001b[1;33m=\u001b[0m\u001b[1;34m\"\"\u001b[0m\u001b[1;33m)\u001b[0m\u001b[1;33m\u001b[0m\u001b[0m\n\u001b[0m",
      "\u001b[1;31mIndexError\u001b[0m: list index out of range"
     ]
    }
   ],
   "source": [
    "\"\"\"Generate a table from initial value to final, depending upon the user starting and ending range in\n",
    "matrix form such as:\n",
    "\n",
    "  1 2 3 4 5\n",
    "  2 4 6 8 10\n",
    "  3 6 9 12 15\n",
    "  4 8 12 16 20\n",
    "  5 10 15 20 25\"\"\"\n",
    "\n",
    "table = [[row*col] for col in range(1,100) for row in range(1,100)]\n",
    "i_value=int(input(\"Enter the initial value: \"))\n",
    "f_value=int(input(\"Enter the final value: \"))\n",
    "for row in range(f_value):\n",
    "    print(\"\\nrow\")\n",
    "    for col in range(f_value):\n",
    "        print(table[row][col],\"\" ,end=\"\")"
   ]
  },
  {
   "cell_type": "code",
   "execution_count": 22,
   "metadata": {},
   "outputs": [
    {
     "name": "stdout",
     "output_type": "stream",
     "text": [
      "Input initial value: 2\n",
      "Input final value :2\n",
      "0\t0\t0\t0\t0\t\n",
      "\n",
      "0\t1\t2\t3\t4\t\n",
      "\n",
      "0\t2\t4\t6\t8\t\n",
      "\n",
      "0\t3\t6\t9\t12\t\n",
      "\n",
      "0\t4\t8\t12\t16\t\n",
      "\n"
     ]
    }
   ],
   "source": [
    "i=int(input(\"Input initial value: \"))\n",
    "f=int(input(\"Input final value :\"))\n",
    "n=5\n",
    "for i in range(n):\n",
    "    for f in range(n):\n",
    "        print(i*f,end=\"\\t\")\n",
    "    print(\"\\n\")"
   ]
  },
  {
   "cell_type": "code",
   "execution_count": null,
   "metadata": {},
   "outputs": [],
   "source": [
    "\"\"\"6. Write a program which will add two square matrices.\"\"\"\n",
    "matrix1=[[row*col]for col in range(1,4)for row in range(1,4)]"
   ]
  },
  {
   "cell_type": "code",
   "execution_count": null,
   "metadata": {},
   "outputs": [],
   "source": []
  }
 ],
 "metadata": {
  "kernelspec": {
   "display_name": "Python 3",
   "language": "python",
   "name": "python3"
  },
  "language_info": {
   "codemirror_mode": {
    "name": "ipython",
    "version": 3
   },
   "file_extension": ".py",
   "mimetype": "text/x-python",
   "name": "python",
   "nbconvert_exporter": "python",
   "pygments_lexer": "ipython3",
   "version": "3.7.0"
  }
 },
 "nbformat": 4,
 "nbformat_minor": 2
}
