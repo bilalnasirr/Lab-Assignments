{
 "cells": [
  {
   "cell_type": "code",
   "execution_count": 1,
   "metadata": {},
   "outputs": [
    {
     "name": "stdout",
     "output_type": "stream",
     "text": [
      "Assalam o Alaikum, Python World!\n"
     ]
    }
   ],
   "source": [
    "message = \"Assalam o Alaikum, Python World!\"\n",
    "print(message)\n"
   ]
  },
  {
   "cell_type": "code",
   "execution_count": 2,
   "metadata": {},
   "outputs": [
    {
     "name": "stdout",
     "output_type": "stream",
     "text": [
      "I am from Usman Institute of Technology\n",
      "My Teachers are great..\n"
     ]
    }
   ],
   "source": [
    "message2 = \"I am from Usman Institute of Technology\"\n",
    "message3 = \"My Teachers are great..\"\n",
    "print(message2)\n",
    "print(message3)\n"
   ]
  },
  {
   "cell_type": "code",
   "execution_count": 3,
   "metadata": {},
   "outputs": [
    {
     "name": "stdout",
     "output_type": "stream",
     "text": [
      "Sheikh Bilal Nasir\n",
      "sheikh bilal nasir\n",
      "SHEIKH BILAL NASIR\n"
     ]
    }
   ],
   "source": [
    "name = \"sheIKh bIlaL NaSiR\"\n",
    "# three functions can be used title(), upper (), lower ()\n",
    "print(name.title())\n",
    "print(name.lower())\n",
    "print(name.upper())"
   ]
  },
  {
   "cell_type": "code",
   "execution_count": 2,
   "metadata": {},
   "outputs": [
    {
     "name": "stdout",
     "output_type": "stream",
     "text": [
      "Tell me something, and I will repeat it back to you: My name is Bilal.\n",
      "My name is Bilal.\n"
     ]
    }
   ],
   "source": [
    "message = input(\"Tell me something, and I will repeat it back to you: \")\n",
    "print(message)"
   ]
  },
  {
   "cell_type": "code",
   "execution_count": 1,
   "metadata": {},
   "outputs": [
    {
     "name": "stdout",
     "output_type": "stream",
     "text": [
      "Please enter your name : Bilal Nasir\n",
      "Assalam o Alaikum, Bilal Nasir!\n"
     ]
    }
   ],
   "source": [
    "name = input(\"Please enter your name : \")\n",
    "print(\"Assalam o Alaikum, \" + name + \"!\")"
   ]
  },
  {
   "cell_type": "code",
   "execution_count": 3,
   "metadata": {},
   "outputs": [
    {
     "name": "stdout",
     "output_type": "stream",
     "text": [
      "Institute of Institute of Technology\n"
     ]
    }
   ],
   "source": [
    "uni_first_name = \"Usman\"\n",
    "uni_mid_name = \"Institute of\"\n",
    "uni_last_name = \"Technology\"\n",
    "full_name = uni_mid_name + \" \" + uni_mid_name + \" \" + uni_last_name\n",
    "print(full_name)"
   ]
  },
  {
   "cell_type": "code",
   "execution_count": 6,
   "metadata": {},
   "outputs": [
    {
     "name": "stdout",
     "output_type": "stream",
     "text": [
      "I learned these programming languages: \n",
      "C \n",
      "Java \n",
      "Python\n"
     ]
    }
   ],
   "source": [
    "print(\"I learned these programming languages: \\nC \\nJava \\nPython\")"
   ]
  },
  {
   "cell_type": "code",
   "execution_count": 8,
   "metadata": {},
   "outputs": [
    {
     "name": "stdout",
     "output_type": "stream",
     "text": [
      "7\n",
      "2\n",
      "25\n",
      "4.0\n",
      "4\n",
      "13\n",
      "16\n"
     ]
    }
   ],
   "source": [
    "# Add, Sub, Mul, Div, Pow\n",
    "print(2+5)\n",
    "print(6-4)\n",
    "print(5*5)\n",
    "print(6/1.5)\n",
    "print(2**2)\n",
    "print(3+5*2)\n",
    "print((3+5)*2)\n"
   ]
  },
  {
   "cell_type": "code",
   "execution_count": 9,
   "metadata": {},
   "outputs": [
    {
     "name": "stdout",
     "output_type": "stream",
     "text": [
      "7.2\n",
      "1.7999999999999998\n",
      "27.5\n",
      "4.0\n",
      "5.76\n",
      "13.4\n",
      "16.4\n"
     ]
    }
   ],
   "source": [
    "print(2.2+5)\n",
    "print(6-4.2)\n",
    "print(5*5.5)\n",
    "print(6/1.5)\n",
    "print(2.4**2)\n",
    "print(3+5.2*2)\n",
    "print((3+5.2)*2)\n"
   ]
  },
  {
   "cell_type": "markdown",
   "metadata": {},
   "source": [
    "# Lab 1"
   ]
  },
  {
   "cell_type": "code",
   "execution_count": 13,
   "metadata": {},
   "outputs": [
    {
     "name": "stdout",
     "output_type": "stream",
     "text": [
      "What's your name: Bilal Nasir\n",
      "How old are you: 18\n",
      "Bilal Nasir Will be 100 years old in the year 2100\n"
     ]
    }
   ],
   "source": [
    "name = input(\"What's your name: \")\n",
    "age = int(input(\"How old are you: \"))\n",
    "year = str((2018-age)+100)\n",
    "print(name + \" Will be 100 years old in the year \" + year)\n"
   ]
  },
  {
   "cell_type": "code",
   "execution_count": 14,
   "metadata": {},
   "outputs": [
    {
     "name": "stdout",
     "output_type": "stream",
     "text": [
      "Twinkle, twinkle, little star,\n",
      "\tHow I wonder what you are! \n",
      "\t\tUp above the world so high,\n",
      "\t\tLike a diamond in the sky. \n",
      "Twinkle, twinkle, little star, \n",
      "\tHow I wonder what you are!\n"
     ]
    }
   ],
   "source": [
    "print(\"Twinkle, twinkle, little star,\\n\\tHow I wonder what you are! \\n\\t\\tUp above the world so high,\\n\\t\\tLike a diamond in the sky. \\nTwinkle, twinkle, little star, \\n\\tHow I wonder what you are!\")"
   ]
  },
  {
   "cell_type": "code",
   "execution_count": 16,
   "metadata": {},
   "outputs": [
    {
     "name": "stdout",
     "output_type": "stream",
     "text": [
      "Current date and time: \n",
      "2018-10-12 12:11:22\n"
     ]
    }
   ],
   "source": [
    "import datetime\n",
    "now = datetime.datetime.now()\n",
    "print(\"Current date and time: \")\n",
    "print(now.strftime(\"%Y-%m-%d %H:%M:%S\"))"
   ]
  },
  {
   "cell_type": "code",
   "execution_count": 28,
   "metadata": {},
   "outputs": [
    {
     "name": "stdout",
     "output_type": "stream",
     "text": [
      "Input the radius of the circle: 5\n",
      "The area of the circle with radius 5.0 is : 78.53981633974483\n"
     ]
    }
   ],
   "source": [
    "from math import pi\n",
    "r = float(input(\"Input the radius of the circle: \"))\n",
    "print(\"The area of the circle with radius \" + str(r)+ \" is : \" +str(pi*r**2))"
   ]
  },
  {
   "cell_type": "code",
   "execution_count": 30,
   "metadata": {},
   "outputs": [
    {
     "name": "stdout",
     "output_type": "stream",
     "text": [
      "Input your first name: Bilal\n",
      "Input your last name: Nasir\n",
      "Hello Nasir Bilal\n"
     ]
    }
   ],
   "source": [
    "fname = input(\"Input your first name: \")\n",
    "lname = input(\"Input your last name: \")\n",
    "print(\"Hello \"+lname+\" \"+fname)"
   ]
  },
  {
   "cell_type": "code",
   "execution_count": 31,
   "metadata": {},
   "outputs": [
    {
     "name": "stdout",
     "output_type": "stream",
     "text": [
      "Input the year : 2018\n",
      "Input the month : 10\n",
      "    October 2018\n",
      "Mo Tu We Th Fr Sa Su\n",
      " 1  2  3  4  5  6  7\n",
      " 8  9 10 11 12 13 14\n",
      "15 16 17 18 19 20 21\n",
      "22 23 24 25 26 27 28\n",
      "29 30 31\n",
      "\n"
     ]
    }
   ],
   "source": [
    "import calendar\n",
    "y = int(input(\"Input the year : \"))\n",
    "m = int(input(\"Input the month : \"))\n",
    "print(calendar.month(y,m))"
   ]
  },
  {
   "cell_type": "markdown",
   "metadata": {},
   "source": [
    "# Home Assignment\n"
   ]
  },
  {
   "cell_type": "code",
   "execution_count": 91,
   "metadata": {},
   "outputs": [
    {
     "name": "stdout",
     "output_type": "stream",
     "text": [
      "Enter Length of rectangle : 4\n",
      "Enter Width of rectangle : 5\n",
      "Area of rectangle with length 4.0 and width 5.0 is : 20.0\n"
     ]
    }
   ],
   "source": [
    "#Write a program to calculate the area of rectangle.\n",
    "l = float(input(\"Enter Length of rectangle : \"))\n",
    "w = float(input(\"Enter Width of rectangle : \"))\n",
    "print(\"Area of rectangle with length \"  +  str(l) + \" and width \"  + str(w) + \" is : \" +str(l*w)) "
   ]
  },
  {
   "cell_type": "code",
   "execution_count": 88,
   "metadata": {},
   "outputs": [
    {
     "name": "stdout",
     "output_type": "stream",
     "text": [
      "Enter the radius of the sphere: 5\n",
      "The volume of the sphere with radius 5.0 is : 104.71975511965977\n"
     ]
    }
   ],
   "source": [
    "#Write a program to calculate the volume of a sphere\n",
    "from math import pi\n",
    "r = float(input(\"Enter the radius of the sphere: \" ))\n",
    "print(\"The volume of the sphere with radius \" +  str(r)  + \" is : \" + str(4/3*pi*r**2))\n"
   ]
  },
  {
   "cell_type": "code",
   "execution_count": 51,
   "metadata": {},
   "outputs": [
    {
     "name": "stdout",
     "output_type": "stream",
     "text": [
      "Sheikh Bilal Nasir\n",
      "SHEIKH BILAL NASIR\n",
      "sheikh bilal nasir\n"
     ]
    }
   ],
   "source": [
    "#Write a program that can write your name is upper case, lower case, and title case. \n",
    "name = \"sheIKH bIlAL NaSiR\"\n",
    "print(name.title())\n",
    "print(name.upper())\n",
    "print(name.lower())"
   ]
  },
  {
   "cell_type": "code",
   "execution_count": 90,
   "metadata": {},
   "outputs": [
    {
     "name": "stdout",
     "output_type": "stream",
     "text": [
      "Enter temperature in Degree Centigrade: 23\n",
      "Temperature in Fahrenheit of 23.0 Degree Centigrade is : 73.4\n"
     ]
    }
   ],
   "source": [
    "#Write a program for converting Degree Centigrade to Fahrenheit.\n",
    "c = float(input(\"Enter temperature in Degree Centigrade: \")) \n",
    "print(\"Temperature in Fahrenheit of \" + str(c) + \" Degree Centigrade \" + \"is : \" + str(c*9/5+32))"
   ]
  },
  {
   "cell_type": "code",
   "execution_count": 81,
   "metadata": {},
   "outputs": [
    {
     "name": "stdout",
     "output_type": "stream",
     "text": [
      "Enter temperature in Fahrenheit: 23\n",
      "The temperature in Degree Centegrate of 23.0 Fahrenheit is : -5.0\n"
     ]
    }
   ],
   "source": [
    "#Write a program for converting Degree Fahrenheit to Centigrade.\n",
    "f = float(input(\"Enter temperature in Fahrenheit: \"))\n",
    "print(\"The temperature in Degree Centegrate of \" + str(f) + \" Fahrenheit\" + \" is : \" + str((f-32)*(5/9)))"
   ]
  },
  {
   "cell_type": "code",
   "execution_count": null,
   "metadata": {},
   "outputs": [],
   "source": []
  }
 ],
 "metadata": {
  "kernelspec": {
   "display_name": "Python 3",
   "language": "python",
   "name": "python3"
  },
  "language_info": {
   "codemirror_mode": {
    "name": "ipython",
    "version": 3
   },
   "file_extension": ".py",
   "mimetype": "text/x-python",
   "name": "python",
   "nbconvert_exporter": "python",
   "pygments_lexer": "ipython3",
   "version": "3.7.0"
  }
 },
 "nbformat": 4,
 "nbformat_minor": 2
}
